{
 "cells": [
  {
   "cell_type": "markdown",
   "metadata": {},
   "source": [
    "# Econ-ARK: How It Started / ~~How~~ Where It's Going\n"
   ]
  },
  {
   "cell_type": "markdown",
   "metadata": {},
   "source": [
    "## How it Started\n",
    "\n",
    "- Officially founded in 2017, formally organizing work by MNW, NMP, and DCL at CFPB in 2015-16\n",
    "- Received generous grant from [Alfred P. Sloan Foundation](https://sloan.org) to develop/professionalize HARK package\n",
    "  - [Heterogeneous Agents Resources and toolKit](https://github.com/econ-ark/HARK)\n",
    "  - Software package for solving, simulating, estimating heterogeneous agents models\n",
    "  - _Framework_ for working with models; all solution and simulation code is handcrafted\n",
    "- Use [NumFocus](https://numfocus.org/) as fiscal sponsor: manager for various open source scientific computing projects\n",
    "- Later received funding from [Think Forward Initiative](https://inomics.com/institution/think-forward-initiative-1258337) and [T. Rowe Price](https://www.troweprice.com/en)\n",
    "- Largely achieved our original set of goals for HARK, but still improving!\n"
   ]
  },
  {
   "cell_type": "markdown",
   "metadata": {},
   "source": [
    "## Big Next Steps\n",
    "\n",
    "- Want to develop a _language_ or _schema_ for expressing dynamic structural models\n",
    "  - Model content\n",
    "  - Computational methods\n",
    "  - Simulation procedure details\n",
    "  - Specify model outputs\n",
    "- Input as _model files_, just like [Dynare](https://www.dynare.org/)\n",
    "  - We want to make \"Dynare for heterogeneous agents\"\n",
    "  - (This is what many people thought HARK was \"supposed to be\" on first impression!)\n",
    "- Precisely convey information in machine- and human-readable format\n",
    "- Model file is independent of solution code, but:\n",
    "  - Will develop software platform to parse models into implied code\n",
    "  - Want it to connect to existing solvers/tools for specific problem types\n",
    "- This is big and ambitious, but experience with HARK has set us up well\n"
   ]
  },
  {
   "cell_type": "markdown",
   "metadata": {},
   "source": [
    "## Hasn't Someone Already Done This?\n",
    "\n",
    "- Looked into whether _other_ academic fields (e.g. OR) have developed a dynamic modeling schema\n",
    "- Nothing looked sufficient for using or expanding for our purposes\n",
    "- _Many_ modeling- and optimization-adjacent software tools out there...\n",
    "  - ...but they're diverse and diffuse, not connected\n",
    "  - No scheme for \"putting the blocks together\"\n",
    "  - Lots of hammers, drills and saws; no [CAD/CAM](https://www.autodesk.com/solutions/cad-cam)\n",
    "- Analogous problem in AI: many (very new) tools, no platform for connecting them\n"
   ]
  },
  {
   "cell_type": "markdown",
   "metadata": {},
   "source": [
    "## Goal 1: Transparency & Replicability\n",
    "\n",
    "- All structural results depend on many ancillary numeric assumptions\n",
    "  - Everyone knows it, loathe to admit it\n",
    "  - Sometimes there's a secret ingredient in the soup\n",
    "  - The soup probably has some rat droppings in it\n",
    "- Now expected to publicly archive your code (and good journals require it)\n",
    "  - But no one checks it!\n",
    "  - Big difference between code being _available_ vs _accessible_\n",
    "- Not even a guarantee that _model on paper_ matches _model in code_\n",
    "- Econ doesn't have a \"replicability crisis\", but _some stuff_ has happened\n",
    "- Our proposed platform enforces connection between human-readable model and computer-executed model\n",
    "  - _And_ clearly specifies all of the \"hidden assumptions\"\n",
    "  - Allows framework for testing/verification of alternate solution methods\n"
   ]
  },
  {
   "cell_type": "markdown",
   "metadata": {},
   "source": [
    "## Goal 2: Accelerate Frontier Economic Applications\n",
    "\n",
    "- New academic research teams/collaborations can better communicate ideas\n",
    "  - Tear down the \"Tower of Babel\" programming problem!\n",
    "- Policy-makers can more easily develop and iterate on internal HA models\n",
    "  - Prospective analysis of potential policy actions/interventions/changes\n",
    "  - (Some) central banks already do this, using their own toolsets\n",
    "  - Financial regulators? Probably should, likely don't right now\n",
    "- New uses for private financial institutions / consumer banks\n",
    "  - Recommendations for retirement investing strategy not necessarily well founded\n",
    "  - Could be based on structural lifecycle consumption-saving model w/ portfolio choice\n"
   ]
  },
  {
   "cell_type": "markdown",
   "metadata": {},
   "source": [
    "## ~~How~~ Where It's Going\n",
    "\n",
    "- We have a good team and **big** plans\n",
    "- Currently seeking next large tranche of funding / ongoing sources\n",
    "- Potential sources from private entities\n",
    "- Central bank funding / sponsorship?\n",
    "  - Talk to your division head today!\n"
   ]
  }
 ],
 "metadata": {
  "kernelspec": {
   "display_name": "Python 3",
   "language": "python",
   "name": "python3"
  },
  "language_info": {
   "codemirror_mode": {
    "name": "ipython",
    "version": 3
   },
   "file_extension": ".py",
   "mimetype": "text/x-python",
   "name": "python",
   "nbconvert_exporter": "python",
   "pygments_lexer": "ipython3",
   "version": "3.7.3"
  }
 },
 "nbformat": 4,
 "nbformat_minor": 4
}
