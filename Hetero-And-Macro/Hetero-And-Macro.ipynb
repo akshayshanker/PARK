{
 "cells": [
  {
   "cell_type": "markdown",
   "metadata": {
    "slideshow": {
     "slide_type": "slide"
    }
   },
   "source": [
    "<font size=\"10\"><b><center>Heterogeneity and Macro Modeling</center></b></font>\n",
    "<font size=\"10\"><b><center>In Policymaking Institutions</center></b></font>\n",
    "<br><br>\n",
    "<font size=\"6\"><b><center>Christopher Carroll</center></b></font>\n",
    "<font size=\"6\"><b><center>Johns Hopkins University</center></b></font>\n",
    "<br><br>\n",
    "<font size=\"6\"><b><center>\"Heads of Research of the European Central Banks\"</center></font>\n",
    "     <font size=\"6\"><b><center>London, June 24, 2019</center></b></font><br>\n"
   ]
  },
  {
   "cell_type": "markdown",
   "metadata": {
    "slideshow": {
     "slide_type": "slide"
    }
   },
   "source": [
    "# Bottom lines\n",
    "\n",
    "1. Rep Agent ('RA') models are badly wrong\n",
    "   * Inconsistent with basic (micro) theory _and_ evidence\n",
    "   * $\\Rightarrow$ least reliable when most urgently needed \n",
    "   <!-- Not hard to match reality in Great Moderation: Nothing ever happened, many models can reproduce that! -->\n",
    "1. New tools can solve these problems\n",
    "   * Now: Hand-crafted, bespoke \"works of art\"\n",
    "      * \"Irreproducible\": a compliment for artworks\n",
    "      * For models, not so much\n",
    "      <!-- spoke to someone from Very Important CB who said had spent weeks trying to understand zip file of code for one well known model and finally gave up -->\n",
    "   * Need: \"Open source\" tools for HA models\n",
    "      * Like DYNARE for RA\n",
    "      * Creatable, maintainable by staff economists\n",
    "\n",
    "<!-- 1:30 -->"
   ]
  },
  {
   "cell_type": "markdown",
   "metadata": {
    "slideshow": {
     "slide_type": "slide"
    }
   },
   "source": [
    "# Teaser\n",
    "\n",
    "Bayer and Luetticke (2019): What Made Great Recession Great?\n",
    "\n",
    "Two models:\n",
    "\n",
    "* RANK: Sudden, massive, highly persistent neg pty shock\n",
    "   * Why?  Where did it come from?  \n",
    "* HANK: Sudden, massive neg aggregate demand shock\n",
    "   * Interpretation: Uncertainty _a la_ Nick Bloom\n",
    "   * Dynamics are endogenous instead of assumed\n",
    "      * Recovery is _autonomously_ slow <!-- Fed forecasts overpredicted recovery for 3 years running -->"
   ]
  },
  {
   "cell_type": "markdown",
   "metadata": {
    "slideshow": {
     "slide_type": "subslide"
    }
   },
   "source": [
    "<font size=\"5\"><b><center>Representative Agent New Keyensian ('RANK')</center></b></font>\n",
    "\n",
    "<center><img src=\"./BayerLuetticke/RANK_DS_Smoother_of_logY.png\" width=\"600\">\n"
   ]
  },
  {
   "cell_type": "markdown",
   "metadata": {
    "slideshow": {
     "slide_type": "subslide"
    }
   },
   "source": [
    "<font size=\"5\"><b><center>Heterogeneous Agent New Keyensian ('HANK')</center></b></font>\n",
    "\n",
    "\n",
    "<center><img src=\"./BayerLuetticke/HANK_DS_Smoother_of_logY.png\" width=\"600\">"
   ]
  },
  {
   "cell_type": "markdown",
   "metadata": {
    "slideshow": {
     "slide_type": "subslide"
    }
   },
   "source": [
    "### Diametrically opposite policy prescriptions:\n",
    "\n",
    "* RANK: Austerity\n",
    "* HANK: Stimulus\n",
    "\n",
    "IMF: \"Stimulus worked; austerity didn't\""
   ]
  },
  {
   "cell_type": "markdown",
   "metadata": {
    "slideshow": {
     "slide_type": "slide"
    }
   },
   "source": [
    "## Framing: It's All About the MPC ('$\\kappa$')\n",
    "\n",
    "### \"Old Keynesian ('OK')\" Cross ($\\approx$ ZLB)\n",
    "\n",
    "\\begin{eqnarray}\n",
    "\\texttt{Period 0:   } \\hat{Y} & = & 1 \\\\\n",
    "\\texttt{Period 1:   } \\phantom{\\hat{Y}} & = & 1 + \\kappa \\\\\n",
    "\\texttt{Period 2:   } \\phantom{\\hat{Y}} & = & 1 + \\kappa + \\kappa^2\n",
    "\\end{eqnarray}\n",
    "\n",
    "<!--\n",
    "|  $\\phantom{.}$     | $\\phantom{Periods:}$  | Date of Unit Shock <br> 0    | <br> 1   | <br> 2   | <br> ... |\n",
    "| :---:     | :---:    | :---: | --- | --- | --- | \n",
    "| $\\Delta Y$ |  =    |  1    |\n",
    "| . |  = | 1   |  + $\\kappa$   |     |\n",
    "| . |  = | 1   |  + $\\kappa$   |  +$\\kappa^{2}$   |\n",
    "| $\\vdots$ |\n",
    "| . |  = | $\\frac{1}{(1-\\kappa)}$   | |\n",
    "|   .     | Periods:  | 0 (date of shock)    | 1   | 2   | 3   |  ... |\n",
    "| . |  = | 1   |  + $\\kappa$   |  +$\\kappa^{2}$   | +$\\kappa^{3}$   | -->\n",
    "\n",
    "Suppose \"period\" is a year and $\\kappa = 0.75$\n",
    "\n",
    "2-year \"Multipliers\"\n",
    "  * $G = 1.75$\n",
    "  * $T \\approx 1.3 (= 0.75+0.75^2)$"
   ]
  },
  {
   "cell_type": "markdown",
   "metadata": {
    "slideshow": {
     "slide_type": "slide"
    }
   },
   "source": [
    "#### Anti-Old-Keynesians ('New Classicals'):\n",
    "\n",
    "$\\kappa=0.75$ has \"no microfoundations\"\n",
    "   * Perf Foresight unconstrained model $\\Rightarrow \\kappa \\approx 0.04$  \n",
    "   <!-- More like 0.01 in models with habit formation -->"
   ]
  },
  {
   "cell_type": "markdown",
   "metadata": {
    "slideshow": {
     "slide_type": "slide"
    }
   },
   "source": [
    "#### \"RA New Keynesian\" (RANK) Models\n",
    "\n",
    "Fiscal Policy ('FP')?\n",
    "\n",
    "Doesn't work because $\\kappa \\approx 0.04$ and\n",
    "  1. Ricardian Equivalence for taxes\n",
    "  1. $G$ mostly changes _split_ of $Y$ between $C$, $I$, $G$"
   ]
  },
  {
   "cell_type": "markdown",
   "metadata": {
    "slideshow": {
     "slide_type": "slide"
    }
   },
   "source": [
    "#### \"RA New Keynesian\" (RANK) Models\n",
    "\n",
    "Monetary Policy ('MP')?\n",
    "\n",
    "Only works via Intertemporal Elasticity of Substitution (IES)\n",
    "  * Problem: All micro and macro estimates are IES $\\approx$ 0\n",
    "     * $\\Rightarrow$ MP doesn't work either\n",
    "     * Kludge: Assume high IES despite evidence\n",
    "<!-- Excuse: It's macroeconomics so we can do this if we want\n",
    "       * Blanchard, Eichenbaum\n",
    "       * One of the earliest criticisms of RA models\n",
    "           * No satisfactory excuse ever given -->\n",
    "  * No \"redistribution\" channel (everyone identical)"
   ]
  },
  {
   "cell_type": "markdown",
   "metadata": {
    "slideshow": {
     "slide_type": "slide"
    }
   },
   "source": [
    "#### \"Two Agent New Keynesian\" (TANK) Models <!-- Will discuss role below -->\n",
    "\n",
    "* \"Savers\" like RA in RANK model\n",
    "* \"Spenders\" like in OK model"
   ]
  },
  {
   "cell_type": "markdown",
   "metadata": {
    "slideshow": {
     "slide_type": "slide"
    }
   },
   "source": [
    "### Recent Update (Last 10 Years)\n",
    "\n",
    "#### Theory and Data Finally Agree\n",
    "\n",
    "##### Theory (with uncertainty, liq constraints, illiquid assets, heterogeneity):\n",
    "\n",
    "   * Easy to get $\\bar{\\kappa} = 0.5$ or more\n",
    "   * Lots of heterogeneity in $\\kappa$\n",
    "\n",
    "##### Data (e.g., National registries)\n",
    "   * Estimates are robustly $\\bar{\\kappa} = 0.5$ or more\n",
    "   * Lots of heterogeneity in $\\kappa$"
   ]
  },
  {
   "cell_type": "markdown",
   "metadata": {
    "slideshow": {
     "slide_type": "slide"
    }
   },
   "source": [
    "### Auclert (2017)\n",
    "\n",
    "_In a model where everyone is optimizing_:\n",
    "\n",
    "FP that changes income:\n",
    "   * $\\bar{\\kappa}$: is a 'sufficient statistic'\n",
    "\n",
    "MP:\n",
    "<!--* Channels: -->\n",
    "  1. IES channel still exists\n",
    "  1. _Also_ an \"Old Keynesian\"-like channel:\n",
    "\t    * Effects of redist _between_ people with *different* $\\kappa$'s         "
   ]
  },
  {
   "cell_type": "markdown",
   "metadata": {
    "slideshow": {
     "slide_type": "slide"
    }
   },
   "source": [
    "### Crawley (2019): Measure Auclert Stuff<!-- Kohn:\"Monetary policy is like war -- conducted in a fog.\"  But at least engineers know how the guns work! --> \n",
    "\n",
    "Relative size of MP channels?\n",
    "   * Danish registry data for hetero in $\\kappa$\n",
    "      * Mechanism: $i \\uparrow$\n",
    "         * Reduces $Y$ for debtors ($\\kappa = 0.75$)\n",
    "         * Increases $Y$ for creditors ($\\kappa = 0.25$)\n",
    "   * $\\kappa$ hetero channel is $\\approx$ 5 times size of IES channel"
   ]
  },
  {
   "cell_type": "markdown",
   "metadata": {
    "slideshow": {
     "slide_type": "slide"
    }
   },
   "source": [
    "### Crawley and Moon (2019)\n",
    "#### Does Auclert Decomposition Work in Theoretical Models?\n",
    "\n",
    "Can theory reproduce Crawley (2019) empirical findings?\n",
    "\n",
    "* Yes -- if you include heavily indebted consumers"
   ]
  },
  {
   "cell_type": "markdown",
   "metadata": {
    "slideshow": {
     "slide_type": "slide"
    }
   },
   "source": [
    "<font size=\"5\"><b><center>Heterogeneous Agent New Keyensian ('HANK')</center></b></font>\n",
    "\n",
    "\n",
    "<center><img src=\"./Figures/KeynesianDebt_sigma3.png\" width=\"600\">\n"
   ]
  },
  {
   "cell_type": "markdown",
   "metadata": {
    "slideshow": {
     "slide_type": "slide"
    }
   },
   "source": [
    "#### Policy Transmission Channels\n",
    "\n",
    "Hetero $\\kappa$:\n",
    "   * crucial for _both_ MP _and_ FP\n",
    "\n",
    "If: we know how a policy:\n",
    "   1. Redistributes $Y$ betw groups w different $\\kappa$'s\n",
    "   1. Changes constraints (which can have $\\kappa >> 1$)"
   ]
  },
  {
   "cell_type": "markdown",
   "metadata": {
    "slideshow": {
     "slide_type": "slide"
    }
   },
   "source": [
    "Then: Micro evidence can _predict_:\n",
    "   1. How previously untried _macro_ policies might work\n",
    "   1. How effects of given policy should change over time\n",
    "       * \"Operation Twist\" could have v diff effects:\n",
    "\t     * US vs UK\n",
    "\t     * 1960s vs 2020s"
   ]
  },
  {
   "cell_type": "markdown",
   "metadata": {
    "slideshow": {
     "slide_type": "slide"
    }
   },
   "source": [
    "#### TANK: Combines Defects of Both Progenitors\n",
    "\n",
    "1. No credible microfoundations\n",
    "   * For either class <!-- $\\Rightarrow$ little confidence in predictions OoS -->\n",
    "   * Can't use micro data to think about macro questions\n",
    "1. Dynamics are wrong\n",
    "   * Fails to produce observed sluggish dynamics\n",
    "      * Half life of $C$ shocks is maybe a year\n",
    "1. Says nothing about dynamic roles of:\n",
    "   * Uncertainty\n",
    "   * Constraints\n",
    "   * Finance\n",
    "\n",
    "<!-- 25 mins to get here -->"
   ]
  },
  {
   "cell_type": "markdown",
   "metadata": {
    "slideshow": {
     "slide_type": "slide"
    }
   },
   "source": [
    "<!-- So, why hasn't everybody already adopted HANK models?  Too hard! -->\n",
    "## Challenge: HA Models Are Too Hard?\n",
    "\n",
    "### That Can Change (Endogenously)\n",
    "\n",
    "* DSGE RA models once viewed as 'too hard'\n",
    "* Where there's a will there's a way: DYNARE\n",
    "<!-- Like me, senior policymakers in this room are probably old enough to\n",
    "remember when the same thing was said about RA RE macro models; we need to keep\n",
    "our Old Keynesian econometric models because RE models are too complex for\n",
    "government work -->"
   ]
  },
  {
   "cell_type": "markdown",
   "metadata": {
    "slideshow": {
     "slide_type": "slide"
    }
   },
   "source": [
    "## Feasibility of 'DYNARE for HA models'?\n",
    "\n",
    "A New Insight is Very Good News: <!-- Kaplan et al, Krusell, Bayer and Luetticke, cstwMPC -->\n",
    "* Macro and Micro Largely Separable\n",
    "* Solve micro model for steady-state ('StSt') ONCE\n",
    "   * Using powerful micro tools\n",
    "* Macro fluctuations?\n",
    "   * Deviations from StSt\n",
    "   * Not too hard to handle\n",
    "\n",
    "[Econ-ARK/HARK](https://github.com/econ-ark.org) open source toolkit is a start\n",
    "   * So far mostly focused on micro problem\n",
    "   * Have begun to integrate with macro "
   ]
  },
  {
   "cell_type": "markdown",
   "metadata": {
    "slideshow": {
     "slide_type": "slide"
    }
   },
   "source": [
    "## Short Run\n",
    "\n",
    "* CB's should build 'Toy' Models Now\n",
    "   * Norway has a head start\n",
    "   * FRB has a number of people\n",
    "      * Crawley starts there in Sep\n",
    "   * Crucial:\n",
    "      * Need to be able to swap models\n",
    "      * Learn from each other\n",
    "      * $\\Rightarrow$ common (open source) toolkit\n",
    "   * Do not use TROLL!"
   ]
  },
  {
   "cell_type": "markdown",
   "metadata": {
    "slideshow": {
     "slide_type": "slide"
    }
   },
   "source": [
    "## Long Run\n",
    "\n",
    "#### 'Main model' key features: \n",
    "   1. Optimizing consumers subject to:\n",
    "      1. Constraints\n",
    "      1. Uncertainty\n",
    "   1. Tracks Income (and perceptions thereof), wealth distributions\n",
    "      1. 'seriously': resembles micro evidence\n",
    "\n",
    "#### 'Auxiliary models'\n",
    "   1. Fiscal policy (track distributional consequences)\n",
    "   1. MacroPru\n",
    "   1. Detailed monetary policy"
   ]
  },
  {
   "cell_type": "markdown",
   "metadata": {
    "slideshow": {
     "slide_type": "slide"
    }
   },
   "source": [
    "## Digression on MacroPru\n",
    "\n",
    "The _whole_ point is to understand how many _micro_ consumers will stop paying <!-- Not, of course, that MacroPru authorities care about their financial distress -- they (rightly) are concerned about the distress they may inflict on fin -->\n",
    "\n",
    "Impossible to learn reliable answers using AR(1) models of aggregated data\n",
    "\n",
    "U.S. micro data: \"double trigger\"\n",
    "\n",
    "People don't default unless _both_:\n",
    "1. Deeply underwater\n",
    "1. Unemployment or other big neg income shock\n",
    "\n",
    "Conclusion?\n",
    "\n",
    "Optimal MacroPru rules:\n",
    "-- Depend on relative sizes of $Y$ vs $P$ shocks\n",
    "\n",
    "Micro modeling $\\Rightarrow$ better macro policy"
   ]
  },
  {
   "cell_type": "markdown",
   "metadata": {
    "heading_collapsed": true,
    "slideshow": {
     "slide_type": "slide"
    }
   },
   "source": [
    "## Getting There\n",
    "\n",
    "* A long way to go yet\n",
    "   * DYNARE wasn't built in a day\n",
    "\n",
    "\n",
    "* Institutional support of infrastructure development\n",
    "    * Like DYNARE has had\n",
    "    * As is done in other scientific/technical fields\n",
    "        * [Astronomy, Artificial Intelligence, Bayesian Statistics, Biology, ...](https://www.scipy.org/topical-software.html)\n",
    "\n",
    "Feasible with modern collaborative software development tools:\n",
    "   * Modular\n",
    "   * Open-source\n",
    "   * Platform-Independent\n",
    "   * Automatic testing/debugging tools\n",
    "   * Robust reproducibility"
   ]
  }
 ],
 "metadata": {
  "celltoolbar": "Slideshow",
  "jupytext": {
   "cell_metadata_filter": "-all",
   "main_language": "python",
   "notebook_metadata_filter": "-all",
   "text_representation": {
    "extension": ".md",
    "format_name": "markdown"
   }
  },
  "kernelspec": {
   "display_name": "Python 3",
   "language": "python",
   "name": "python3"
  },
  "language_info": {
   "codemirror_mode": {
    "name": "ipython",
    "version": 3
   },
   "file_extension": ".py",
   "mimetype": "text/x-python",
   "name": "python",
   "nbconvert_exporter": "python",
   "pygments_lexer": "ipython3",
   "version": "3.6.8"
  },
  "latex_envs": {
   "LaTeX_envs_menu_present": true,
   "autoclose": false,
   "autocomplete": true,
   "bibliofile": "biblio.bib",
   "cite_by": "apalike",
   "current_citInitial": 1,
   "eqLabelWithNumbers": true,
   "eqNumInitial": 1,
   "hotkeys": {
    "equation": "Ctrl-E",
    "itemize": "Ctrl-I"
   },
   "labels_anchors": false,
   "latex_user_defs": false,
   "report_style_numbering": false,
   "user_envs_cfg": false
  }
 },
 "nbformat": 4,
 "nbformat_minor": 2
}
